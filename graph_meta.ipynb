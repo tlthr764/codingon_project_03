{
 "cells": [
  {
   "cell_type": "code",
   "execution_count": 1,
   "metadata": {},
   "outputs": [
    {
     "name": "stdout",
     "output_type": "stream",
     "text": [
      "Setup Complete\n"
     ]
    }
   ],
   "source": [
    "import pandas as pd\n",
    "import matplotlib.pyplot as plt\n",
    "import seaborn as sns\n",
    "from matplotlib import font_manager, rc\n",
    "\n",
    "# 한글 폰트 설정\n",
    "font_path = \"C:/Windows/Fonts/malgun.ttf\"  # 한글 폰트 파일 경로\n",
    "font_name = font_manager.FontProperties(fname=font_path).get_name()\n",
    "rc('font', family=font_name)\n",
    "\n",
    "print(\"Setup Complete\")"
   ]
  },
  {
   "cell_type": "code",
   "execution_count": 3,
   "metadata": {},
   "outputs": [
    {
     "data": {
      "text/html": [
       "<div>\n",
       "<style scoped>\n",
       "    .dataframe tbody tr th:only-of-type {\n",
       "        vertical-align: middle;\n",
       "    }\n",
       "\n",
       "    .dataframe tbody tr th {\n",
       "        vertical-align: top;\n",
       "    }\n",
       "\n",
       "    .dataframe thead th {\n",
       "        text-align: right;\n",
       "    }\n",
       "</style>\n",
       "<table border=\"1\" class=\"dataframe\">\n",
       "  <thead>\n",
       "    <tr style=\"text-align: right;\">\n",
       "      <th></th>\n",
       "      <th>Hero</th>\n",
       "      <th>DEAK</th>\n",
       "      <th>Winrate</th>\n",
       "      <th>Popular</th>\n",
       "      <th>Games</th>\n",
       "    </tr>\n",
       "  </thead>\n",
       "  <tbody>\n",
       "    <tr>\n",
       "      <th>0</th>\n",
       "      <td>죽음의 기사</td>\n",
       "      <td>Plague Death Knight</td>\n",
       "      <td>55.5%</td>\n",
       "      <td>6.9%</td>\n",
       "      <td>80,000</td>\n",
       "    </tr>\n",
       "    <tr>\n",
       "      <th>1</th>\n",
       "      <td>죽음의 기사</td>\n",
       "      <td>부정 죽음의 기사</td>\n",
       "      <td>39.5%</td>\n",
       "      <td>3.5%</td>\n",
       "      <td>40,000</td>\n",
       "    </tr>\n",
       "    <tr>\n",
       "      <th>2</th>\n",
       "      <td>죽음의 기사</td>\n",
       "      <td>혈기 죽음의 기사</td>\n",
       "      <td>38.6%</td>\n",
       "      <td>2.0%</td>\n",
       "      <td>22,000</td>\n",
       "    </tr>\n",
       "    <tr>\n",
       "      <th>3</th>\n",
       "      <td>죽음의 기사</td>\n",
       "      <td>냉기 죽음의 기사</td>\n",
       "      <td>47.5%</td>\n",
       "      <td>1.0%</td>\n",
       "      <td>11,000</td>\n",
       "    </tr>\n",
       "    <tr>\n",
       "      <th>4</th>\n",
       "      <td>죽음의 기사</td>\n",
       "      <td>Rainbow Death Knight</td>\n",
       "      <td>48.1%</td>\n",
       "      <td>0.7%</td>\n",
       "      <td>7,900</td>\n",
       "    </tr>\n",
       "  </tbody>\n",
       "</table>\n",
       "</div>"
      ],
      "text/plain": [
       "     Hero                  DEAK Winrate Popular   Games\n",
       "0  죽음의 기사   Plague Death Knight   55.5%    6.9%  80,000\n",
       "1  죽음의 기사             부정 죽음의 기사   39.5%    3.5%  40,000\n",
       "2  죽음의 기사             혈기 죽음의 기사   38.6%    2.0%  22,000\n",
       "3  죽음의 기사             냉기 죽음의 기사   47.5%    1.0%  11,000\n",
       "4  죽음의 기사  Rainbow Death Knight   48.1%    0.7%   7,900"
      ]
     },
     "execution_count": 3,
     "metadata": {},
     "output_type": "execute_result"
    }
   ],
   "source": [
    "meta_filepath = \"./hs_meta.csv\"\n",
    "meta_data = pd.read_csv(meta_filepath)\n",
    "meta_data.head()"
   ]
  }
 ],
 "metadata": {
  "kernelspec": {
   "display_name": "base",
   "language": "python",
   "name": "python3"
  },
  "language_info": {
   "codemirror_mode": {
    "name": "ipython",
    "version": 3
   },
   "file_extension": ".py",
   "mimetype": "text/x-python",
   "name": "python",
   "nbconvert_exporter": "python",
   "pygments_lexer": "ipython3",
   "version": "3.11.5"
  }
 },
 "nbformat": 4,
 "nbformat_minor": 2
}

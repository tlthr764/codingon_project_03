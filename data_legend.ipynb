{
 "cells": [
  {
   "cell_type": "markdown",
   "metadata": {},
   "source": [
    "# 1-1. 하스스톤 전설 유저수 변화 데이터 크롤링\n",
    "<pre>\n",
    "▶ 기간 : 2022년 10월 ~ 2023년 11월 28일자\n",
    "▶ 대상 : 현재 운영 중인 아시아, 유럽, 아메리카 서버에 존재하는 전설 등급 유저\n",
    "▶ 사이트 : [순위표 - 하스스톤](https://hearthstone.blizzard.com/ko-kr/community/leaderboards)\n",
    "</pre>"
   ]
  },
  {
   "cell_type": "markdown",
   "metadata": {},
   "source": [
    "### 라이브러리"
   ]
  },
  {
   "cell_type": "code",
   "execution_count": 16,
   "metadata": {},
   "outputs": [
    {
     "name": "stdout",
     "output_type": "stream",
     "text": [
      "Setup Complete\n"
     ]
    }
   ],
   "source": [
    "import requests # HTTP 프로토콜을 이용하여 웹사이트로부터 데이터를 송수신 받기 위한 라이브러리\n",
    "from bs4 import BeautifulSoup # 웹페이지의 HTML, XML 파일에서 데이터를 추출하는 라이브러리\n",
    "import openpyxl # 엑셀파일 작업을 위한 라이브러리\n",
    "import pandas as pd # 구조화된 데이터나 표 형식의 데이터 분석 및 조작을 위한 라이브러리\n",
    "\n",
    "# 웹페이지를 자동으로 조작하기 위한 라이브러리\n",
    "from selenium import webdriver\n",
    "from selenium.webdriver.chrome.options import Options\n",
    "from selenium.webdriver.chrome.service import Service as ChromeService\n",
    "from webdriver_manager.chrome import ChromeDriverManager # 웹브라우저의 드라이버를 자동으로 관리하는 라이브러리\n",
    "\n",
    "# Selenium에서 사용되는 웹요소를 찾기 위한 기능을 제공해주는 라이브러리\n",
    "from selenium.webdriver.common.by import By\n",
    "from selenium.webdriver.common.keys import Keys\n",
    "from selenium.webdriver.support.ui import WebDriverWait\n",
    "from selenium.webdriver.support import expected_conditions as EC\n",
    "\n",
    "import re  #  정규표현식을 사용해 숫자를 추출하기 위한 라이브러리\n",
    "from time import sleep  # 실행을 일시적으로 멈춰 로딩을 기다리기 위한 라이브러리\n",
    "\n",
    "# 설정을 완료했다는 출력\n",
    "print(\"Setup Complete\")"
   ]
  },
  {
   "cell_type": "markdown",
   "metadata": {},
   "source": [
    "### 데이터 크롤링 함수"
   ]
  },
  {
   "cell_type": "code",
   "execution_count": 15,
   "metadata": {},
   "outputs": [
    {
     "name": "stdout",
     "output_type": "stream",
     "text": [
      "Setup Complete\n"
     ]
    }
   ],
   "source": [
    "def scrape_hs_legend_data():\n",
    "\n",
    "    # 엑셀 만들기\n",
    "    wb = openpyxl.Workbook()\n",
    "\n",
    "    # 워크시트 만들기\n",
    "    ws = wb.active\n",
    "    ws.title = '하스스톤 전설등급 유저수'\n",
    "\n",
    "    # 데이터 추가하기\n",
    "    ws.append(['시즌', '년도', '월', '서버', '유저수'])\n",
    "\n",
    "    # 엑셀 저장하기\n",
    "    wb.save('./hs_legend.xlsx')\n",
    "\n",
    "    # 서버, 시즌 변수 정의\n",
    "    servers = ['AP', 'US', 'EU']  # 아시아태평양,북미,유럽\n",
    "    start_year = 2022 # 시작 시즌 년도\n",
    "    start_month = 10  # 시작 시즌 월\n",
    "    num_seasons = 14  # 121시즌까지의 총 개수\n",
    "\n",
    "    # 엑셀 열기\n",
    "    wb = openpyxl.load_workbook('./hs_legend.xlsx')\n",
    "    ws = wb.active\n",
    "\n",
    "    # 데이터를 저장할 리스트 생성\n",
    "    data = []\n",
    "\n",
    "    # 크롬 설정\n",
    "    chrome_options = Options() # 크롬의 설정을 조작하기 위한 객체 생성\n",
    "    chrome_options.add_experimental_option(\"detach\", True) # 크롬을 실행 후, 스크립트가 종료되더라도 브라우저가 계속 실행되도록 설정\n",
    "    chrome_options.add_argument('--no-sandbox') # 브라우저 보안으로 인해 샌드박스 모드에서 실행되지 않도록 설정\n",
    "    chrome_options.add_argument('--disable-dev-shm-usage') # /dev/shm - 공유메모리 사용, /dev/shm을 사용하지 않도록 설정해서 메모리 부족을 회피\n",
    "\n",
    "    # 108~121 시즌까지 데이터 수집하도록 루프\n",
    "    for season in range(108, 108 + num_seasons):\n",
    "        # 서버별로 URL을 다르게 접속하는 루프\n",
    "        for server in servers:\n",
    "\n",
    "            # ChromeDriverManager를 사용하여 Chrome 드라이버를 초기화.\n",
    "            driver = webdriver.Chrome(service=ChromeService(executable_path=ChromeDriverManager().install()), options=chrome_options)\n",
    "\n",
    "            # URL 열기\n",
    "            url = f\"https://hearthstone.blizzard.com/ko-kr/community/leaderboards?region={server}&seasonId={season}\"\n",
    "            driver.get(url)\n",
    "\n",
    "            # 엘리먼트가 나타날 때까지 대기\n",
    "            try:  \n",
    "                element_present = EC.presence_of_element_located((By.CLASS_NAME, 'metadata')) # metadata 엘리먼트 찾는 조건을 설정하고 객체를 생성\n",
    "                WebDriverWait(driver, 10).until(element_present) # 최대 10초 대기\n",
    "            except Exception as e: # 에외 처리\n",
    "                print(f\"엘리먼트 대기 중 예외 발생: {e}\")\n",
    "                driver.quit()\n",
    "                continue\n",
    "\n",
    "            # BeautifulSoup을 사용하여 HTML 파싱\n",
    "            html = driver.page_source\n",
    "            soup = BeautifulSoup(html, 'html.parser')\n",
    "\n",
    "            # metadata 엘리먼트 선택\n",
    "            metadata = soup.select_one('.metadata')\n",
    "\n",
    "            # 만약 metadata가 존재한다면 숫자를 추출하고 워크시트와 데이터 리스트에 추가\n",
    "            if metadata:\n",
    "                num_text = metadata.text # metadata에서 텍스트 추출\n",
    "                num_match = re.search(r'\\d+', num_text) # 숫자 추출\n",
    "\n",
    "                # num_match가 None이 아닌지 확인 후에 처리\n",
    "                if num_match:\n",
    "                    num = num_match.group() # num_match에서 숫자추출한 부분을 반환\n",
    "\n",
    "                    # '년도'와 '월' 데이터 추가\n",
    "                    ws.append([season, start_year, start_month, server, num])\n",
    "\n",
    "                    # 데이터 리스트에도 추가\n",
    "                    data.append([season, start_year, start_month, server, num])\n",
    "                else:\n",
    "                    print(f\"시즌 {season}, 서버 {server}에서 유저 수를 찾을 수 없습니다.\")\n",
    "           \n",
    "            # Chrome 드라이버 종료\n",
    "            driver.quit()\n",
    "\n",
    "        # 다음 시즌의 시작년도와 시작월 설정\n",
    "        start_month += 1\n",
    "        if start_month > 12:\n",
    "            start_month = 1\n",
    "            start_year += 1\n",
    "\n",
    "    # .xlsx 형식으로 엑셀 저장\n",
    "    wb.save('./hs_legend.xlsx')\n",
    "\n",
    "    # 데이터 리스트 반환\n",
    "    return data\n",
    "\n",
    "# 설정을 완료했다는 출력\n",
    "print(\"Setup Complete\")"
   ]
  },
  {
   "cell_type": "markdown",
   "metadata": {},
   "source": [
    "### 실행 코드 및 결과 .csv 저장"
   ]
  },
  {
   "cell_type": "code",
   "execution_count": 17,
   "metadata": {},
   "outputs": [
    {
     "name": "stdout",
     "output_type": "stream",
     "text": [
      "엘리먼트 대기 중 예외 발생: Message: no such window: target window already closed\n",
      "from unknown error: web view not found\n",
      "  (Session info: chrome=119.0.6045.161)\n",
      "Stacktrace:\n",
      "\tGetHandleVerifier [0x012372A3+45731]\n",
      "\t(No symbol) [0x011C2D51]\n",
      "\t(No symbol) [0x010B880D]\n",
      "\t(No symbol) [0x0109F75E]\n",
      "\t(No symbol) [0x0110C11B]\n",
      "\t(No symbol) [0x0111B2D3]\n",
      "\t(No symbol) [0x01107DD6]\n",
      "\t(No symbol) [0x010E31F6]\n",
      "\t(No symbol) [0x010E439D]\n",
      "\tGetHandleVerifier [0x01540716+3229462]\n",
      "\tGetHandleVerifier [0x015884C8+3523784]\n",
      "\tGetHandleVerifier [0x0158214C+3498316]\n",
      "\tGetHandleVerifier [0x012C1680+611968]\n",
      "\t(No symbol) [0x011CCCCC]\n",
      "\t(No symbol) [0x011C8DF8]\n",
      "\t(No symbol) [0x011C8F1D]\n",
      "\t(No symbol) [0x011BB2C7]\n",
      "\tBaseThreadInitThunk [0x76717BA9+25]\n",
      "\tRtlInitializeExceptionChain [0x77E1BD2B+107]\n",
      "\tRtlClearBits [0x77E1BCAF+191]\n",
      "\n"
     ]
    },
    {
     "ename": "KeyboardInterrupt",
     "evalue": "",
     "output_type": "error",
     "traceback": [
      "\u001b[1;31m---------------------------------------------------------------------------\u001b[0m",
      "\u001b[1;31mNoSuchWindowException\u001b[0m                     Traceback (most recent call last)",
      "\u001b[1;32mc:\\Users\\HP\\Desktop\\python_project\\codingon_project_03\\data_legend.ipynb Cell 7\u001b[0m line \u001b[0;36m5\n\u001b[0;32m     <a href='vscode-notebook-cell:/c%3A/Users/HP/Desktop/python_project/codingon_project_03/data_legend.ipynb#W6sZmlsZQ%3D%3D?line=48'>49</a>\u001b[0m     element_present \u001b[39m=\u001b[39m EC\u001b[39m.\u001b[39mpresence_of_element_located((By\u001b[39m.\u001b[39mCLASS_NAME, \u001b[39m'\u001b[39m\u001b[39mmetadata\u001b[39m\u001b[39m'\u001b[39m)) \u001b[39m# metadata 엘리먼트 찾는 조건을 설정하고 객체를 생성\u001b[39;00m\n\u001b[1;32m---> <a href='vscode-notebook-cell:/c%3A/Users/HP/Desktop/python_project/codingon_project_03/data_legend.ipynb#W6sZmlsZQ%3D%3D?line=49'>50</a>\u001b[0m     WebDriverWait(driver, \u001b[39m10\u001b[39m)\u001b[39m.\u001b[39muntil(element_present) \u001b[39m# 최대 10초 대기\u001b[39;00m\n\u001b[0;32m     <a href='vscode-notebook-cell:/c%3A/Users/HP/Desktop/python_project/codingon_project_03/data_legend.ipynb#W6sZmlsZQ%3D%3D?line=50'>51</a>\u001b[0m \u001b[39mexcept\u001b[39;00m \u001b[39mException\u001b[39;00m \u001b[39mas\u001b[39;00m e: \u001b[39m# 에외 처리\u001b[39;00m\n",
      "File \u001b[1;32mc:\\Users\\HP\\anaconda3\\Lib\\site-packages\\selenium\\webdriver\\support\\wait.py:92\u001b[0m, in \u001b[0;36mWebDriverWait.until\u001b[1;34m(self, method, message)\u001b[0m\n\u001b[0;32m     91\u001b[0m \u001b[39mtry\u001b[39;00m:\n\u001b[1;32m---> 92\u001b[0m     value \u001b[39m=\u001b[39m method(\u001b[39mself\u001b[39m\u001b[39m.\u001b[39m_driver)\n\u001b[0;32m     93\u001b[0m     \u001b[39mif\u001b[39;00m value:\n",
      "File \u001b[1;32mc:\\Users\\HP\\anaconda3\\Lib\\site-packages\\selenium\\webdriver\\support\\expected_conditions.py:80\u001b[0m, in \u001b[0;36mpresence_of_element_located.<locals>._predicate\u001b[1;34m(driver)\u001b[0m\n\u001b[0;32m     79\u001b[0m \u001b[39mdef\u001b[39;00m \u001b[39m_predicate\u001b[39m(driver: WebDriver):\n\u001b[1;32m---> 80\u001b[0m     \u001b[39mreturn\u001b[39;00m driver\u001b[39m.\u001b[39mfind_element(\u001b[39m*\u001b[39mlocator)\n",
      "File \u001b[1;32mc:\\Users\\HP\\anaconda3\\Lib\\site-packages\\selenium\\webdriver\\remote\\webdriver.py:741\u001b[0m, in \u001b[0;36mWebDriver.find_element\u001b[1;34m(self, by, value)\u001b[0m\n\u001b[0;32m    739\u001b[0m     value \u001b[39m=\u001b[39m \u001b[39mf\u001b[39m\u001b[39m'\u001b[39m\u001b[39m[name=\u001b[39m\u001b[39m\"\u001b[39m\u001b[39m{\u001b[39;00mvalue\u001b[39m}\u001b[39;00m\u001b[39m\"\u001b[39m\u001b[39m]\u001b[39m\u001b[39m'\u001b[39m\n\u001b[1;32m--> 741\u001b[0m \u001b[39mreturn\u001b[39;00m \u001b[39mself\u001b[39m\u001b[39m.\u001b[39mexecute(Command\u001b[39m.\u001b[39mFIND_ELEMENT, {\u001b[39m\"\u001b[39m\u001b[39musing\u001b[39m\u001b[39m\"\u001b[39m: by, \u001b[39m\"\u001b[39m\u001b[39mvalue\u001b[39m\u001b[39m\"\u001b[39m: value})[\u001b[39m\"\u001b[39m\u001b[39mvalue\u001b[39m\u001b[39m\"\u001b[39m]\n",
      "File \u001b[1;32mc:\\Users\\HP\\anaconda3\\Lib\\site-packages\\selenium\\webdriver\\remote\\webdriver.py:347\u001b[0m, in \u001b[0;36mWebDriver.execute\u001b[1;34m(self, driver_command, params)\u001b[0m\n\u001b[0;32m    346\u001b[0m \u001b[39mif\u001b[39;00m response:\n\u001b[1;32m--> 347\u001b[0m     \u001b[39mself\u001b[39m\u001b[39m.\u001b[39merror_handler\u001b[39m.\u001b[39mcheck_response(response)\n\u001b[0;32m    348\u001b[0m     response[\u001b[39m\"\u001b[39m\u001b[39mvalue\u001b[39m\u001b[39m\"\u001b[39m] \u001b[39m=\u001b[39m \u001b[39mself\u001b[39m\u001b[39m.\u001b[39m_unwrap_value(response\u001b[39m.\u001b[39mget(\u001b[39m\"\u001b[39m\u001b[39mvalue\u001b[39m\u001b[39m\"\u001b[39m, \u001b[39mNone\u001b[39;00m))\n",
      "File \u001b[1;32mc:\\Users\\HP\\anaconda3\\Lib\\site-packages\\selenium\\webdriver\\remote\\errorhandler.py:229\u001b[0m, in \u001b[0;36mErrorHandler.check_response\u001b[1;34m(self, response)\u001b[0m\n\u001b[0;32m    228\u001b[0m     \u001b[39mraise\u001b[39;00m exception_class(message, screen, stacktrace, alert_text)  \u001b[39m# type: ignore[call-arg]  # mypy is not smart enough here\u001b[39;00m\n\u001b[1;32m--> 229\u001b[0m \u001b[39mraise\u001b[39;00m exception_class(message, screen, stacktrace)\n",
      "\u001b[1;31mNoSuchWindowException\u001b[0m: Message: no such window: target window already closed\nfrom unknown error: web view not found\n  (Session info: chrome=119.0.6045.161)\nStacktrace:\n\tGetHandleVerifier [0x012372A3+45731]\n\t(No symbol) [0x011C2D51]\n\t(No symbol) [0x010B880D]\n\t(No symbol) [0x0109F75E]\n\t(No symbol) [0x0110C11B]\n\t(No symbol) [0x0111B2D3]\n\t(No symbol) [0x01107DD6]\n\t(No symbol) [0x010E31F6]\n\t(No symbol) [0x010E439D]\n\tGetHandleVerifier [0x01540716+3229462]\n\tGetHandleVerifier [0x015884C8+3523784]\n\tGetHandleVerifier [0x0158214C+3498316]\n\tGetHandleVerifier [0x012C1680+611968]\n\t(No symbol) [0x011CCCCC]\n\t(No symbol) [0x011C8DF8]\n\t(No symbol) [0x011C8F1D]\n\t(No symbol) [0x011BB2C7]\n\tBaseThreadInitThunk [0x76717BA9+25]\n\tRtlInitializeExceptionChain [0x77E1BD2B+107]\n\tRtlClearBits [0x77E1BCAF+191]\n",
      "\nDuring handling of the above exception, another exception occurred:\n",
      "\u001b[1;31mTimeoutError\u001b[0m                              Traceback (most recent call last)",
      "File \u001b[1;32mc:\\Users\\HP\\anaconda3\\Lib\\socket.py:836\u001b[0m, in \u001b[0;36mcreate_connection\u001b[1;34m(address, timeout, source_address, all_errors)\u001b[0m\n\u001b[0;32m    835\u001b[0m     sock\u001b[39m.\u001b[39mbind(source_address)\n\u001b[1;32m--> 836\u001b[0m sock\u001b[39m.\u001b[39mconnect(sa)\n\u001b[0;32m    837\u001b[0m \u001b[39m# Break explicitly a reference cycle\u001b[39;00m\n",
      "\u001b[1;31mTimeoutError\u001b[0m: timed out",
      "\nDuring handling of the above exception, another exception occurred:\n",
      "\u001b[1;31mKeyboardInterrupt\u001b[0m                         Traceback (most recent call last)",
      "\u001b[1;32mc:\\Users\\HP\\Desktop\\python_project\\codingon_project_03\\data_legend.ipynb Cell 7\u001b[0m line \u001b[0;36m2\n\u001b[0;32m      <a href='vscode-notebook-cell:/c%3A/Users/HP/Desktop/python_project/codingon_project_03/data_legend.ipynb#W6sZmlsZQ%3D%3D?line=0'>1</a>\u001b[0m \u001b[39m# 함수 호출하여 데이터 수집\u001b[39;00m\n\u001b[1;32m----> <a href='vscode-notebook-cell:/c%3A/Users/HP/Desktop/python_project/codingon_project_03/data_legend.ipynb#W6sZmlsZQ%3D%3D?line=1'>2</a>\u001b[0m scraped_data \u001b[39m=\u001b[39m scrape_hs_legend_data()\n\u001b[0;32m      <a href='vscode-notebook-cell:/c%3A/Users/HP/Desktop/python_project/codingon_project_03/data_legend.ipynb#W6sZmlsZQ%3D%3D?line=3'>4</a>\u001b[0m \u001b[39m# 데이터를 포함한 리스트에서 DataFrame을 생성\u001b[39;00m\n\u001b[0;32m      <a href='vscode-notebook-cell:/c%3A/Users/HP/Desktop/python_project/codingon_project_03/data_legend.ipynb#W6sZmlsZQ%3D%3D?line=4'>5</a>\u001b[0m df \u001b[39m=\u001b[39m pd\u001b[39m.\u001b[39mDataFrame(scraped_data, columns\u001b[39m=\u001b[39m[\u001b[39m'\u001b[39m\u001b[39mSeason\u001b[39m\u001b[39m'\u001b[39m, \u001b[39m'\u001b[39m\u001b[39mYear\u001b[39m\u001b[39m'\u001b[39m, \u001b[39m'\u001b[39m\u001b[39mMonth\u001b[39m\u001b[39m'\u001b[39m, \u001b[39m'\u001b[39m\u001b[39mServer\u001b[39m\u001b[39m'\u001b[39m, \u001b[39m'\u001b[39m\u001b[39mNumber\u001b[39m\u001b[39m'\u001b[39m])\n",
      "\u001b[1;32mc:\\Users\\HP\\Desktop\\python_project\\codingon_project_03\\data_legend.ipynb Cell 7\u001b[0m line \u001b[0;36m5\n\u001b[0;32m     <a href='vscode-notebook-cell:/c%3A/Users/HP/Desktop/python_project/codingon_project_03/data_legend.ipynb#W6sZmlsZQ%3D%3D?line=50'>51</a>\u001b[0m \u001b[39mexcept\u001b[39;00m \u001b[39mException\u001b[39;00m \u001b[39mas\u001b[39;00m e: \u001b[39m# 에외 처리\u001b[39;00m\n\u001b[0;32m     <a href='vscode-notebook-cell:/c%3A/Users/HP/Desktop/python_project/codingon_project_03/data_legend.ipynb#W6sZmlsZQ%3D%3D?line=51'>52</a>\u001b[0m     \u001b[39mprint\u001b[39m(\u001b[39mf\u001b[39m\u001b[39m\"\u001b[39m\u001b[39m엘리먼트 대기 중 예외 발생: \u001b[39m\u001b[39m{\u001b[39;00me\u001b[39m}\u001b[39;00m\u001b[39m\"\u001b[39m)\n\u001b[1;32m---> <a href='vscode-notebook-cell:/c%3A/Users/HP/Desktop/python_project/codingon_project_03/data_legend.ipynb#W6sZmlsZQ%3D%3D?line=52'>53</a>\u001b[0m     driver\u001b[39m.\u001b[39mquit()\n\u001b[0;32m     <a href='vscode-notebook-cell:/c%3A/Users/HP/Desktop/python_project/codingon_project_03/data_legend.ipynb#W6sZmlsZQ%3D%3D?line=53'>54</a>\u001b[0m     \u001b[39mcontinue\u001b[39;00m\n\u001b[0;32m     <a href='vscode-notebook-cell:/c%3A/Users/HP/Desktop/python_project/codingon_project_03/data_legend.ipynb#W6sZmlsZQ%3D%3D?line=55'>56</a>\u001b[0m \u001b[39m# BeautifulSoup을 사용하여 HTML 파싱\u001b[39;00m\n",
      "File \u001b[1;32mc:\\Users\\HP\\anaconda3\\Lib\\site-packages\\selenium\\webdriver\\chromium\\webdriver.py:192\u001b[0m, in \u001b[0;36mChromiumDriver.quit\u001b[1;34m(self)\u001b[0m\n\u001b[0;32m    190\u001b[0m     \u001b[39mpass\u001b[39;00m\n\u001b[0;32m    191\u001b[0m \u001b[39mfinally\u001b[39;00m:\n\u001b[1;32m--> 192\u001b[0m     \u001b[39mself\u001b[39m\u001b[39m.\u001b[39mservice\u001b[39m.\u001b[39mstop()\n",
      "File \u001b[1;32mc:\\Users\\HP\\anaconda3\\Lib\\site-packages\\selenium\\webdriver\\common\\service.py:146\u001b[0m, in \u001b[0;36mService.stop\u001b[1;34m(self)\u001b[0m\n\u001b[0;32m    144\u001b[0m \u001b[39mif\u001b[39;00m \u001b[39mself\u001b[39m\u001b[39m.\u001b[39mprocess \u001b[39mis\u001b[39;00m \u001b[39mnot\u001b[39;00m \u001b[39mNone\u001b[39;00m:\n\u001b[0;32m    145\u001b[0m     \u001b[39mtry\u001b[39;00m:\n\u001b[1;32m--> 146\u001b[0m         \u001b[39mself\u001b[39m\u001b[39m.\u001b[39msend_remote_shutdown_command()\n\u001b[0;32m    147\u001b[0m     \u001b[39mexcept\u001b[39;00m \u001b[39mTypeError\u001b[39;00m:\n\u001b[0;32m    148\u001b[0m         \u001b[39mpass\u001b[39;00m\n",
      "File \u001b[1;32mc:\\Users\\HP\\anaconda3\\Lib\\site-packages\\selenium\\webdriver\\common\\service.py:131\u001b[0m, in \u001b[0;36mService.send_remote_shutdown_command\u001b[1;34m(self)\u001b[0m\n\u001b[0;32m    128\u001b[0m     \u001b[39mreturn\u001b[39;00m\n\u001b[0;32m    130\u001b[0m \u001b[39mfor\u001b[39;00m _ \u001b[39min\u001b[39;00m \u001b[39mrange\u001b[39m(\u001b[39m30\u001b[39m):\n\u001b[1;32m--> 131\u001b[0m     \u001b[39mif\u001b[39;00m \u001b[39mnot\u001b[39;00m \u001b[39mself\u001b[39m\u001b[39m.\u001b[39mis_connectable():\n\u001b[0;32m    132\u001b[0m         \u001b[39mbreak\u001b[39;00m\n\u001b[0;32m    133\u001b[0m     sleep(\u001b[39m1\u001b[39m)\n",
      "File \u001b[1;32mc:\\Users\\HP\\anaconda3\\Lib\\site-packages\\selenium\\webdriver\\common\\service.py:120\u001b[0m, in \u001b[0;36mService.is_connectable\u001b[1;34m(self)\u001b[0m\n\u001b[0;32m    117\u001b[0m \u001b[39mdef\u001b[39;00m \u001b[39mis_connectable\u001b[39m(\u001b[39mself\u001b[39m) \u001b[39m-\u001b[39m\u001b[39m>\u001b[39m \u001b[39mbool\u001b[39m:\n\u001b[0;32m    118\u001b[0m \u001b[39m    \u001b[39m\u001b[39m\"\"\"Establishes a socket connection to determine if the service running\u001b[39;00m\n\u001b[0;32m    119\u001b[0m \u001b[39m    on the port is accessible.\"\"\"\u001b[39;00m\n\u001b[1;32m--> 120\u001b[0m     \u001b[39mreturn\u001b[39;00m utils\u001b[39m.\u001b[39mis_connectable(\u001b[39mself\u001b[39m\u001b[39m.\u001b[39mport)\n",
      "File \u001b[1;32mc:\\Users\\HP\\anaconda3\\Lib\\site-packages\\selenium\\webdriver\\common\\utils.py:101\u001b[0m, in \u001b[0;36mis_connectable\u001b[1;34m(port, host)\u001b[0m\n\u001b[0;32m     99\u001b[0m socket_ \u001b[39m=\u001b[39m \u001b[39mNone\u001b[39;00m\n\u001b[0;32m    100\u001b[0m \u001b[39mtry\u001b[39;00m:\n\u001b[1;32m--> 101\u001b[0m     socket_ \u001b[39m=\u001b[39m socket\u001b[39m.\u001b[39mcreate_connection((host, port), \u001b[39m1\u001b[39m)\n\u001b[0;32m    102\u001b[0m     result \u001b[39m=\u001b[39m \u001b[39mTrue\u001b[39;00m\n\u001b[0;32m    103\u001b[0m \u001b[39mexcept\u001b[39;00m _is_connectable_exceptions:\n",
      "File \u001b[1;32mc:\\Users\\HP\\anaconda3\\Lib\\socket.py:843\u001b[0m, in \u001b[0;36mcreate_connection\u001b[1;34m(address, timeout, source_address, all_errors)\u001b[0m\n\u001b[0;32m    841\u001b[0m \u001b[39mexcept\u001b[39;00m error \u001b[39mas\u001b[39;00m exc:\n\u001b[0;32m    842\u001b[0m     \u001b[39mif\u001b[39;00m \u001b[39mnot\u001b[39;00m all_errors:\n\u001b[1;32m--> 843\u001b[0m         exceptions\u001b[39m.\u001b[39mclear()  \u001b[39m# raise only the last error\u001b[39;00m\n\u001b[0;32m    844\u001b[0m     exceptions\u001b[39m.\u001b[39mappend(exc)\n\u001b[0;32m    845\u001b[0m     \u001b[39mif\u001b[39;00m sock \u001b[39mis\u001b[39;00m \u001b[39mnot\u001b[39;00m \u001b[39mNone\u001b[39;00m:\n",
      "\u001b[1;31mKeyboardInterrupt\u001b[0m: "
     ]
    }
   ],
   "source": [
    "# 함수 호출하여 데이터 수집\n",
    "scraped_data = scrape_hs_legend_data()\n",
    "\n",
    "# 데이터를 포함한 리스트에서 DataFrame을 생성\n",
    "save_data = pd.DataFrame(scraped_data, columns=['Season', 'Year', 'Month', 'Server', 'Number'])\n",
    "\n",
    "# DataFrame을 UTF-8 인코딩으로 CSV 파일로 저장\n",
    "save_data.to_csv('./hs_legend.csv', encoding='utf-8', index=False)\n",
    "\n",
    "# 실행을 완료했다는 출력\n",
    "print(\"Data Crawling Complete\")"
   ]
  }
 ],
 "metadata": {
  "kernelspec": {
   "display_name": "base",
   "language": "python",
   "name": "python3"
  },
  "language_info": {
   "codemirror_mode": {
    "name": "ipython",
    "version": 3
   },
   "file_extension": ".py",
   "mimetype": "text/x-python",
   "name": "python",
   "nbconvert_exporter": "python",
   "pygments_lexer": "ipython3",
   "version": "3.11.5"
  }
 },
 "nbformat": 4,
 "nbformat_minor": 2
}

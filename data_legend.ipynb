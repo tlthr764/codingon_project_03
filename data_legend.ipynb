{
 "cells": [
  {
   "cell_type": "markdown",
   "metadata": {},
   "source": [
    "# 1-1. 하스스톤 전설 유저수 변화 데이터 크롤링\n",
    "<pre>\n",
    "▶ 기간 : 2022년 10월 ~ 2023년 11월 28일자\n",
    "▶ 대상 : 현재 운영 중인 아시아, 유럽, 아메리카 서버에 존재하는 전설 등급 유저\n",
    "▶ 사이트 : [순위표 - 하스스톤](https://hearthstone.blizzard.com/ko-kr/community/leaderboards)\n",
    "</pre>"
   ]
  },
  {
   "cell_type": "markdown",
   "metadata": {},
   "source": [
    "## 라이브러리"
   ]
  },
  {
   "cell_type": "code",
   "execution_count": 3,
   "metadata": {},
   "outputs": [
    {
     "name": "stdout",
     "output_type": "stream",
     "text": [
      "Setup Complete\n"
     ]
    }
   ],
   "source": [
    "import requests # HTTP 프로토콜을 이용하여 웹사이트로부터 데이터를 송수신 받기 위한 라이브러리\n",
    "from bs4 import BeautifulSoup # 웹페이지의 HTML, XML 파일에서 데이터를 추출하는 라이브러리\n",
    "import openpyxl # 엑셀파일 작업을 위한 라이브러리\n",
    "import pandas as pd # 구조화된 데이터나 표 형식의 데이터 분석 및 조작을 위한 라이브러리\n",
    "\n",
    "# 웹페이지를 자동으로 조작하기 위한 라이브러리\n",
    "from selenium import webdriver\n",
    "from selenium.webdriver.chrome.options import Options\n",
    "from selenium.webdriver.chrome.service import Service as ChromeService\n",
    "from webdriver_manager.chrome import ChromeDriverManager # 웹브라우저의 드라이버를 자동으로 관리하는 라이브러리\n",
    "\n",
    "# Selenium에서 사용되는 웹요소를 찾기 위한 기능을 제공해주는 라이브러리\n",
    "from selenium.webdriver.common.by import By\n",
    "from selenium.webdriver.common.keys import Keys\n",
    "from selenium.webdriver.support.ui import WebDriverWait\n",
    "from selenium.webdriver.support import expected_conditions as EC\n",
    "\n",
    "import re  #  정규표현식을 사용해 숫자를 추출하기 위한 라이브러리\n",
    "from time import sleep  # 실행을 일시적으로 멈춰 로딩을 기다리기 위한 라이브러리\n",
    "\n",
    "# 설정을 완료했다는 출력\n",
    "print(\"Setup Complete\")"
   ]
  },
  {
   "cell_type": "markdown",
   "metadata": {},
   "source": [
    "## 데이터 크롤링 함수"
   ]
  },
  {
   "cell_type": "code",
   "execution_count": 2,
   "metadata": {},
   "outputs": [
    {
     "name": "stdout",
     "output_type": "stream",
     "text": [
      "Setup Complete\n"
     ]
    }
   ],
   "source": [
    "def scrape_hs_legend_data():\n",
    "\n",
    "    # 엑셀 만들기\n",
    "    wb = openpyxl.Workbook()\n",
    "\n",
    "    # 워크시트 만들기\n",
    "    ws = wb.active\n",
    "    ws.title = '하스스톤 전설등급 유저수'\n",
    "\n",
    "    # 데이터 추가하기\n",
    "    ws.append(['시즌', '년도', '월', '서버', '유저수'])\n",
    "\n",
    "    # 엑셀 저장하기\n",
    "    wb.save('./hs_legend.xlsx')\n",
    "\n",
    "    # 서버, 시즌 변수 정의\n",
    "    servers = ['AP', 'US', 'EU']  # 아시아태평양,북미,유럽\n",
    "    start_year = 2022 # 시작 시즌 년도\n",
    "    start_month = 10  # 시작 시즌 월\n",
    "    num_seasons = 14  # 121시즌까지의 총 개수\n",
    "\n",
    "    # 엑셀 열기\n",
    "    wb = openpyxl.load_workbook('./hs_legend.xlsx')\n",
    "    ws = wb.active\n",
    "\n",
    "    # 데이터를 저장할 리스트 생성\n",
    "    data = []\n",
    "\n",
    "    # 크롬 설정\n",
    "    chrome_options = Options() # 크롬의 설정을 조작하기 위한 객체 생성\n",
    "    chrome_options.add_experimental_option(\"detach\", True) # 크롬을 실행 후, 스크립트가 종료되더라도 브라우저가 계속 실행되도록 설정\n",
    "    chrome_options.add_argument('--no-sandbox') # 브라우저 보안으로 인해 샌드박스 모드에서 실행되지 않도록 설정\n",
    "    chrome_options.add_argument('--disable-dev-shm-usage') # /dev/shm - 공유메모리 사용, /dev/shm을 사용하지 않도록 설정해서 메모리 부족을 회피\n",
    "\n",
    "    # 108~121 시즌까지 데이터 수집하도록 루프\n",
    "    for season in range(108, 108 + num_seasons):\n",
    "        # 서버별로 URL을 다르게 접속하는 루프\n",
    "        for server in servers:\n",
    "\n",
    "            # ChromeDriverManager를 사용하여 크롬 드라이버를 초기화.\n",
    "            driver = webdriver.Chrome(service=ChromeService(executable_path=ChromeDriverManager().install()), options=chrome_options)\n",
    "\n",
    "            # URL 열기\n",
    "            url = f\"https://hearthstone.blizzard.com/ko-kr/community/leaderboards?region={server}&seasonId={season}\"\n",
    "            driver.get(url)\n",
    "\n",
    "            # 엘리먼트가 나타날 때까지 대기\n",
    "            try:  \n",
    "                element_present = EC.presence_of_element_located((By.CLASS_NAME, 'metadata')) # metadata 엘리먼트 찾는 조건을 설정하고 객체를 생성\n",
    "                WebDriverWait(driver, 10).until(element_present) # 최대 10초 대기\n",
    "            except Exception as e: # 에외 처리\n",
    "                print(f\"엘리먼트 대기 중 예외 발생: {e}\")\n",
    "                driver.quit()\n",
    "                continue\n",
    "\n",
    "            # BeautifulSoup을 사용하여 HTML 파싱\n",
    "            html = driver.page_source\n",
    "            soup = BeautifulSoup(html, 'html.parser')\n",
    "\n",
    "            # metadata 엘리먼트 선택\n",
    "            metadata = soup.select_one('.metadata')\n",
    "\n",
    "            # 만약 metadata가 존재한다면 숫자를 추출하고 워크시트와 데이터 리스트에 추가\n",
    "            if metadata:\n",
    "                num_text = metadata.text # metadata에서 텍스트 추출\n",
    "                num_match = re.search(r'\\d+', num_text) # 숫자 추출\n",
    "\n",
    "                # num_match가 None이 아닌지 확인 후에 처리\n",
    "                if num_match:\n",
    "                    num = num_match.group() # num_match에서 숫자추출한 부분을 반환\n",
    "\n",
    "                    # '년도'와 '월' 데이터 추가\n",
    "                    ws.append([season, start_year, start_month, server, num])\n",
    "\n",
    "                    # 데이터를 리스트에 추가\n",
    "                    data.append([season, start_year, start_month, server, num])\n",
    "                else:\n",
    "                    print(f\"시즌 {season}, 서버 {server}에서 유저 수를 찾을 수 없습니다.\")\n",
    "           \n",
    "            # Chrome 드라이버 종료\n",
    "            driver.quit()\n",
    "\n",
    "        # 다음 시즌의 시작년도와 시작월 설정\n",
    "        start_month += 1\n",
    "        if start_month > 12:\n",
    "            start_month = 1\n",
    "            start_year += 1\n",
    "\n",
    "    # .xlsx 형식으로 엑셀 저장\n",
    "    wb.save('./hs_legend.xlsx')\n",
    "\n",
    "    # 데이터 리스트 반환\n",
    "    return data\n",
    "\n",
    "# 설정을 완료했다는 출력\n",
    "print(\"Setup Complete\")"
   ]
  },
  {
   "cell_type": "markdown",
   "metadata": {},
   "source": [
    "## 실행 코드 및 결과 .csv 저장"
   ]
  },
  {
   "cell_type": "code",
   "execution_count": 3,
   "metadata": {},
   "outputs": [
    {
     "name": "stdout",
     "output_type": "stream",
     "text": [
      "Data Crawling Complete\n"
     ]
    }
   ],
   "source": [
    "# 함수 호출하여 데이터 수집\n",
    "scraped_data = scrape_hs_legend_data()\n",
    "\n",
    "# 데이터를 포함한 리스트에서 DataFrame을 생성\n",
    "save_data = pd.DataFrame(scraped_data, columns=['Season', 'Year', 'Month', 'Server', 'Number'])\n",
    "\n",
    "# DataFrame을 UTF-8 인코딩으로 CSV 파일로 저장\n",
    "save_data.to_csv('./hs_legend.csv', encoding='utf-8', index=False)\n",
    "\n",
    "# 실행을 완료했다는 출력\n",
    "print(\"Data Crawling Complete\")"
   ]
  }
 ],
 "metadata": {
  "kernelspec": {
   "display_name": "base",
   "language": "python",
   "name": "python3"
  },
  "language_info": {
   "codemirror_mode": {
    "name": "ipython",
    "version": 3
   },
   "file_extension": ".py",
   "mimetype": "text/x-python",
   "name": "python",
   "nbconvert_exporter": "python",
   "pygments_lexer": "ipython3",
   "version": "3.11.5"
  }
 },
 "nbformat": 4,
 "nbformat_minor": 2
}

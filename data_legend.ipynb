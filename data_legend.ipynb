{
 "cells": [
  {
   "cell_type": "code",
   "execution_count": 24,
   "metadata": {},
   "outputs": [],
   "source": [
    "import requests\n",
    "from bs4 import BeautifulSoup\n",
    "import openpyxl\n",
    "import re # 숫자추출을 위한 라이브러리\n",
    "\n",
    "# 엑셀 만들기\n",
    "wb = openpyxl.Workbook()\n",
    "\n",
    "# 워크시트 만들기\n",
    "ws = wb.active\n",
    "ws.title = '하스스톤 전설등급 유저수'\n",
    "\n",
    "# 데이터 추가하기\n",
    "ws.append(['시즌','서버','유저수'])\n",
    "\n",
    "# 엑셀 저장하기\n",
    "wb.save('./hs_legend.xlsx')\n",
    "\n",
    "# 서버, 시즌 변수 정의\n",
    "servers = ['AP','US','EU'] # 아시아태평양,북미,유럽\n",
    "seasonId = list(range(108,122)) # 108부터 121까지 시즌\n",
    "\n",
    "wb = openpyxl.load_workbook('./hs_legend.xlsx')\n",
    "ws = wb.active"
   ]
  },
  {
   "cell_type": "code",
   "execution_count": 26,
   "metadata": {},
   "outputs": [],
   "source": [
    "from time import sleep\n",
    "\n",
    "for season in seasonId:\n",
    "  for server in servers:\n",
    "    response = requests.get(f\"https://hearthstone.blizzard.com/ko-kr/community/leaderboards?region={server}&leaderboardId=standard&seasonId={season}\")\n",
    "    html = response.text\n",
    "    soup = BeautifulSoup(html, 'html.parser')\n",
    "\n",
    "    # metadata 클래스를 갖는 div 태그들 중에서 h2 태그를 찾음\n",
    "    metadata_divs = soup.select('.metadata')\n",
    "    print(\"metadata_divs\", metadata_divs)\n",
    "        \n",
    "    for metadata_div in metadata_divs:\n",
    "      h2_tag = metadata_div.select_one('h2')\n",
    "\n",
    "      if h2_tag:\n",
    "        # h2 태그 내의 텍스트에서 숫자만 추출\n",
    "        num_text = h2_tag.text\n",
    "        print(\"num_text\", num_text)\n",
    "        num_match = re.search(r'\\d+', num_text)\n",
    "\n",
    "        if num_match:\n",
    "            num = num_match.group()\n",
    "            ws.append([season, server, num])\n",
    "    sleep(1)\n",
    "\n",
    "\n",
    "wb.save('./hs_legend.xlsx')"
   ]
  }
 ],
 "metadata": {
  "kernelspec": {
   "display_name": "base",
   "language": "python",
   "name": "python3"
  },
  "language_info": {
   "codemirror_mode": {
    "name": "ipython",
    "version": 3
   },
   "file_extension": ".py",
   "mimetype": "text/x-python",
   "name": "python",
   "nbconvert_exporter": "python",
   "pygments_lexer": "ipython3",
   "version": "3.11.5"
  }
 },
 "nbformat": 4,
 "nbformat_minor": 2
}

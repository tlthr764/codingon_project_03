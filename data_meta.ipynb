{
 "cells": [
  {
   "cell_type": "code",
   "execution_count": 4,
   "metadata": {},
   "outputs": [],
   "source": [
    "import requests\n",
    "from bs4 import BeautifulSoup\n",
    "import openpyxl\n",
    "import pandas as pd\n",
    "import re  # 숫자추출을 위한 라이브러리\n",
    "from selenium import webdriver\n",
    "from selenium.webdriver.chrome.options import Options\n",
    "from selenium.webdriver.chrome.service import Service as ChromeService\n",
    "from webdriver_manager.chrome import ChromeDriverManager\n",
    "from selenium.webdriver.common.by import By\n",
    "from selenium.webdriver.common.keys import Keys\n",
    "from selenium.webdriver.support.ui import WebDriverWait\n",
    "from selenium.webdriver.support import expected_conditions as EC\n",
    "from time import sleep\n"
   ]
  },
  {
   "cell_type": "code",
   "execution_count": 5,
   "metadata": {},
   "outputs": [],
   "source": [
    "def create_excel(time, rank, server) : \n",
    "# 엑셀 만들기\n",
    "    wb = openpyxl.Workbook()\n",
    "\n",
    "    # 워크시트 만들기\n",
    "    ws = wb.active\n",
    "    ws.title = f\"최근 {time}일 {server}서버의 {rank}랭크\"\n",
    "\n",
    "    # 데이터 추가하기\n",
    "    ws.append(['직업', '덱유형', '게임수'])\n",
    "\n",
    "    # 엑셀 저장하기\n",
    "    wb.save('./hs_meta.xlsx')\n",
    "\n",
    "    # 엑셀 열기\n",
    "    wb = openpyxl.load_workbook('./hs_meta.xlsx')\n",
    "    ws = wb.active\n"
   ]
  },
  {
   "cell_type": "code",
   "execution_count": 10,
   "metadata": {},
   "outputs": [],
   "source": [
    "def driver_in(): \n",
    "# ChromeOptions 설정\n",
    "  chrome_options = Options()\n",
    "  chrome_options.add_experimental_option(\"detach\", True)\n",
    "  chrome_options.add_argument('--no-sandbox')\n",
    "  chrome_options.add_argument('--disable-dev-shm-usage')\n",
    "\n",
    "  # ChromeDriverManager를 사용하여 Chrome 드라이버를 초기화합니다.\n",
    "  driver = webdriver.Chrome(service=ChromeService(executable_path=ChromeDriverManager().install()), options=chrome_options)\n",
    "\n",
    "  # url 열기\n",
    "  url = \"https://hsreplay.net/account/login\"\n",
    "  driver.get(url)\n",
    "  sleep(3)\n",
    "  \n",
    "  # 엘리먼트가 나타날 때까지 대기합니다 (최대 10초 대기)\n",
    "  try:\n",
    "      element_present = EC.presence_of_element_located((By.CLASS_NAME, \"promo-button\"))\n",
    "      WebDriverWait(driver, 10).until(element_present)\n",
    "  except Exception as e:\n",
    "      print(f\"엘리먼트 대기 중 예외 발생: {e}\")\n",
    "      driver.quit()\n",
    "\n",
    "  btn = driver.find_element(By.CLASS_NAME,\"promo-button\")\n",
    "  print(\"btn\",btn)\n",
    "  btn.click()\n",
    "\n",
    "  # 엘리먼트가 나타날 때까지 대기합니다 (최대 10초 대기)\n",
    "  try:\n",
    "      element_present = EC.presence_of_element_located((By.CLASS_NAME, \"input-block\"))\n",
    "      WebDriverWait(driver, 10).until(element_present)\n",
    "  except Exception as e:\n",
    "      print(f\"엘리먼트 대기 중 예외 발생: {e}\")\n",
    "      driver.quit()\n",
    "\n",
    "  id = driver.find_elements(By.CLASS_NAME, \"input-block\")[0]\n",
    "  id.send_keys(\"\")\n",
    "  pw = driver.find_elements(By.CLASS_NAME, \"input-block\")[1]\n",
    "  pw.send_keys(\"\")\n",
    "  log_btn = driver.find_element(By.CLASS_NAME, \"submit-button\")\n",
    "  log_btn.click()"
   ]
  },
  {
   "cell_type": "code",
   "execution_count": 31,
   "metadata": {},
   "outputs": [],
   "source": [
    "def scrape_hs_meta_data():\n",
    "    # 입력값 받기\n",
    "    time = int(input(\"검색할 시간을 입력하세요.\\n[최근7일 : 7 // 최근 3일 : 3 // 최근 1일 : 1 // 최신 패치 : 0]\"))\n",
    "    rank = input(\"검색할 랭크를 입력하세요.\\n[전구간 : A // 브론즈 : B // 실버 : S // 골드 : G // 플래티넘 : P // 다이아 : D // 전설 : L // 상위1000 : 1000]\")\n",
    "    server = input(\"검색할 서버를 입력하세요.\\n[전서버 : A // 아시아 : AP // 유럽 : EU // 북미 : US]\")\n",
    "    \n",
    "    # 검색 범위 딕셔너리 정의\n",
    "    time_dict={7 : \"LAST_7_DAY\", 3 :  \"LAST_3_DAY\", 1 : \"LAST_1_DAY\", 0 : \"\"}\n",
    "    rank_dict={\"A\" : \"\", \"B\" :  \"BRONZE\", \"S\" : \"SILVER\", \"G\" :  \"GOLD\", \"P\" :  \"PLATINUM\", \"D\" :  \"DIAMOND\", \"L\" :  \"LEGEND\", \"1000\" :  \"TOP_1000_LEGEND\"}\n",
    "    server_dict={\"A\" : \"\", \"AP\" :  \"REGION_KR\", \"EU\" : \"REGION_EU\", \"US\" : \"REGION_US\"}\n",
    "\n",
    "    create_excel(time, rank_dict[rank], server_dict[server])\n",
    "\n",
    "    # ChromeOptions 설정\n",
    "    chrome_options = Options()\n",
    "    chrome_options.add_experimental_option(\"detach\", True)\n",
    "    chrome_options.add_argument('--no-sandbox')\n",
    "    chrome_options.add_argument('--disable-dev-shm-usage')\n",
    "\n",
    "    # ChromeDriverManager를 사용하여 Chrome 드라이버를 초기화합니다.\n",
    "    driver = webdriver.Chrome(service=ChromeService(executable_path=ChromeDriverManager().install()), options=chrome_options)\n",
    "\n",
    "    # URL 열기\n",
    "    if rank_dict[rank]==\"\":\n",
    "      url = f\"https://hsreplay.net/meta/#tab=archetypes&timeFrame={time_dict[time]}&region={server_dict[server]}\"\n",
    "    else:\n",
    "      url = f\"https://hsreplay.net/meta/#tab=archetypes&timeFrame={time_dict[time]}&rankRange={rank_dict[rank]}&region={server_dict[server]}\"\n",
    "    driver.get(url)\n",
    "\n",
    "    # 엘리먼트가 나타날 때까지 대기합니다 (최대 10초 대기)\n",
    "    try:\n",
    "        element_present = EC.presence_of_element_located((By.CLASS_NAME, 'box-title'))\n",
    "        WebDriverWait(driver, 10).until(element_present)\n",
    "    except Exception as e:\n",
    "        print(f\"엘리먼트 대기 중 예외 발생: {e}\")\n",
    "        driver.quit()\n",
    "\n",
    "    # BeautifulSoup을 사용하여 HTML 파싱\n",
    "    html = driver.page_source\n",
    "    soup = BeautifulSoup(html, 'html.parser')\n",
    "\n",
    "    #  엘리먼트 선택\n",
    "    hero_elements = soup.select('.box-title')\n",
    "    type_elements = soup.select('.tooltip-wrapper')\n",
    "    game_elements = soup.select('.table-cell')\n",
    "\n",
    "    print('.box-title', hero_elements)\n",
    "    print('.tooltip-wrapper', type_elements)   \n",
    "    print('.table-cell', game_elements)      "
   ]
  },
  {
   "cell_type": "code",
   "execution_count": 11,
   "metadata": {},
   "outputs": [
    {
     "name": "stdout",
     "output_type": "stream",
     "text": [
      "btn <selenium.webdriver.remote.webelement.WebElement (session=\"7d622f7a83469aad5f6558119ecbca9f\", element=\"DA04782692E37C770705ABC3266E545B_element_39\")>\n"
     ]
    }
   ],
   "source": [
    "driver_in()"
   ]
  }
 ],
 "metadata": {
  "kernelspec": {
   "display_name": "base",
   "language": "python",
   "name": "python3"
  },
  "language_info": {
   "codemirror_mode": {
    "name": "ipython",
    "version": 3
   },
   "file_extension": ".py",
   "mimetype": "text/x-python",
   "name": "python",
   "nbconvert_exporter": "python",
   "pygments_lexer": "ipython3",
   "version": "3.11.5"
  }
 },
 "nbformat": 4,
 "nbformat_minor": 2
}
